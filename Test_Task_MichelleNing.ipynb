{
 "cells": [
  {
   "cell_type": "markdown",
   "metadata": {},
   "source": [
    "# Test Task\n",
    "\n",
    "# Analyze the organization name recognition system and dataset annotations\n",
    "\n",
    "\n",
    "\n",
    "### The Road Ahead\n",
    "\n",
    "Here, break the notebook into separate steps.\n",
    "\n",
    "* [Step 1](#step1): Load Enron Dataset\n",
    "* [Step 2](#step2): Analyze spacy model performace on Enron file\n",
    "* [Step 3](#step3): Load OntoNotes Dataset\n",
    "* [Step 4](#step4): Analyze spacy model performace on OntoSentences file\n",
    "\n",
    "---\n",
    "<a id='step1'></a>\n",
    "## Step 1: Load Enron Dataset\n",
    "\n",
    "### Load Enron Dataset\n",
    "Open and load EnronSentences.json file\n",
    "The type of the data is list and length = 310"
   ]
  },
  {
   "cell_type": "code",
   "execution_count": 1,
   "metadata": {},
   "outputs": [
    {
     "name": "stdout",
     "output_type": "stream",
     "text": [
      "<class 'list'>\n",
      "310\n"
     ]
    }
   ],
   "source": [
    "import json\n",
    "\n",
    "# Open JSON file\n",
    "with open('EnronSentences.json') as json_file:\n",
    "    Enron_data = json.load(json_file)\n",
    "    \n",
    "    print(type(Enron_data))\n",
    "    print(len(Enron_data))"
   ]
  },
  {
   "cell_type": "markdown",
   "metadata": {},
   "source": [
    "### Take the first email as an example.\n",
    "#### Email is read in dict. "
   ]
  },
  {
   "cell_type": "code",
   "execution_count": 2,
   "metadata": {},
   "outputs": [
    {
     "name": "stdout",
     "output_type": "stream",
     "text": [
      "{'text': 'Shelley: Do you have any information on Project Max that we could use in the business plan for NNG?', 'machine_entities': [[95, 98, 'ORG', 'machine']], 'human_entities': {}}\n",
      "Enron_data[0] type: <class 'dict'>\n"
     ]
    }
   ],
   "source": [
    "# print an email and check content\n",
    "print(Enron_data[0])\n",
    "print(\"Enron_data[0] type:\",type(Enron_data[0]))"
   ]
  },
  {
   "cell_type": "markdown",
   "metadata": {},
   "source": [
    "#### Check keys and its value."
   ]
  },
  {
   "cell_type": "code",
   "execution_count": 3,
   "metadata": {},
   "outputs": [
    {
     "name": "stdout",
     "output_type": "stream",
     "text": [
      "dict_keys(['text', 'machine_entities', 'human_entities'])\n",
      "Shelley: Do you have any information on Project Max that we could use in the business plan for NNG?\n",
      "<class 'list'>   [[95, 98, 'ORG', 'machine']]\n",
      "[95, 98, 'ORG']\n",
      "machine\n"
     ]
    }
   ],
   "source": [
    "# check each dictionary keys and value\n",
    "print(Enron_data[0].keys())\n",
    "input_text = Enron_data[0]['text']\n",
    "output = Enron_data[0]['machine_entities']\n",
    "print(input_text)\n",
    "print(type(output), \" \", output)\n",
    "print(output[0][:3])\n",
    "print(output[0][-1])"
   ]
  },
  {
   "cell_type": "markdown",
   "metadata": {},
   "source": [
    "### Import spacy and analyze the first email."
   ]
  },
  {
   "cell_type": "code",
   "execution_count": 4,
   "metadata": {},
   "outputs": [],
   "source": [
    "import spacy\n",
    "\n",
    "nlp = spacy.load(\"en_core_web_sm\")    "
   ]
  },
  {
   "cell_type": "code",
   "execution_count": 5,
   "metadata": {},
   "outputs": [
    {
     "name": "stdout",
     "output_type": "stream",
     "text": [
      "[[95, 98, 'ORG']]\n"
     ]
    }
   ],
   "source": [
    "doc = nlp(input_text)\n",
    "output_spacy = []\n",
    "for ent in doc.ents:\n",
    "    if ent.label_ == \"ORG\":\n",
    "        output_spacy.append([ent.start_char,ent.end_char,ent.label_])\n",
    "print(output_spacy)"
   ]
  },
  {
   "cell_type": "markdown",
   "metadata": {},
   "source": [
    "#### Compare the value got from spacy and file"
   ]
  },
  {
   "cell_type": "code",
   "execution_count": 6,
   "metadata": {},
   "outputs": [
    {
     "name": "stdout",
     "output_type": "stream",
     "text": [
      "True\n"
     ]
    }
   ],
   "source": [
    "result = output[0][:3] == output_spacy[0]\n",
    "print(result)"
   ]
  },
  {
   "cell_type": "markdown",
   "metadata": {},
   "source": [
    "<a id='step2'></a>\n",
    "## Step 2: Analyze spacy model performace on Enron file\n"
   ]
  },
  {
   "cell_type": "code",
   "execution_count": 7,
   "metadata": {},
   "outputs": [],
   "source": [
    "def read_each_email(n):\n",
    "    \n",
    "    input_text = Enron_data[n]['text']\n",
    "    output_machine = Enron_data[n]['machine_entities']\n",
    "    len_machine = len(output_machine)\n",
    "    len_output = 0\n",
    "    output = []\n",
    "    \n",
    "    if Enron_data[n]['human_entities'] != {}:\n",
    "\n",
    "        output_human_dict = Enron_data[n]['human_entities']\n",
    "        output = list(output_human_dict.values())[0]\n",
    "        \n",
    "        len_human = len(output)\n",
    "    else:\n",
    "        output = output_machine\n",
    "        len_output = len_machine\n",
    "    \n",
    "    return input_text, output, len_output\n"
   ]
  },
  {
   "cell_type": "code",
   "execution_count": 8,
   "metadata": {},
   "outputs": [],
   "source": [
    "def get_predict_from_spacy(input_text):\n",
    "    \n",
    "    doc = nlp(input_text)\n",
    "    output_spacy = []\n",
    "    for ent in doc.ents:\n",
    "        if ent.label_ == \"ORG\":\n",
    "            output_spacy.append([ent.start_char,ent.end_char,ent.label_])\n",
    "    \n",
    "    return output_spacy"
   ]
  },
  {
   "cell_type": "code",
   "execution_count": 9,
   "metadata": {},
   "outputs": [],
   "source": [
    "def complete_match(output, predict):\n",
    "    \"\"\"\n",
    "    Spacy predict has the same result of target\n",
    "    \"\"\"\n",
    "    if predict == output:\n",
    "        return 1\n",
    "    else:\n",
    "        return 0\n",
    "\n",
    "def correct_find(output, predict):\n",
    "    \"\"\"\n",
    "    find whether the name range in predict\n",
    "    \"\"\"\n",
    "    find_name = 0\n",
    "    for value_predict in predict:\n",
    "        for value_output in output:\n",
    "            if value_predict[0] > value_output[1] or value_predict[1] < value_output[0]:\n",
    "                find_name += 0\n",
    "            else:\n",
    "                find_name += 1\n",
    "    return find_name\n",
    "\n",
    "def TrueP_with_FalseP(output, predict): \n",
    "    \"\"\"\n",
    "    All targeted name are included in predict, meanwhile spacy include Flase Positive\n",
    "    \"\"\"\n",
    "    false_pos = 0\n",
    "    for value in output:\n",
    "        if value in predict:\n",
    "            false_pos += 1\n",
    "    if false_pos == len(output):\n",
    "        return 1\n",
    "    else:\n",
    "        return 0\n",
    "\n",
    "def TrueP_with_FalseN(output, predict):\n",
    "    \"\"\"\n",
    "    All predict names are included in target, meanwhile spacy has False Negative\n",
    "    \"\"\"\n",
    "    false_neg = 0\n",
    "    for value in predict:\n",
    "        if value in output:\n",
    "            false_neg += 1\n",
    "    if false_neg > 0:\n",
    "        return 1\n",
    "    else:\n",
    "        return 0"
   ]
  },
  {
   "cell_type": "code",
   "execution_count": 10,
   "metadata": {
    "scrolled": true
   },
   "outputs": [
    {
     "name": "stdout",
     "output_type": "stream",
     "text": [
      "5  enron human:  [[178, 188, 'ORG']]  spacy:  [[17, 49, 'ORG'], [102, 110, 'ORG']]\n",
      "36  enron human:  [[0, 5, 'ORG'], [15, 17, 'ORG']]  spacy:  [[35, 38, 'ORG']]\n",
      "186  enron human:  [[0, 9, 'ORG']]  spacy:  [[88, 114, 'ORG'], [139, 179, 'ORG']]\n",
      "211  enron human:  [[114, 125, 'ORG'], [130, 134, 'ORG']]  spacy:  [[47, 74, 'ORG']]\n",
      "complete_correct_number Positive:  73\n",
      "All position found:  115\n",
      "True Positive:  188\n",
      "True Negative:  26\n",
      "with false positive number:  0\n",
      "with false negative number:  81\n"
     ]
    }
   ],
   "source": [
    "#for i in range(len(Enron_data)):\n",
    "complete_correct_number = 0\n",
    "position_find_number = 0\n",
    "false_positive_number = 0\n",
    "false_negative_number = 0\n",
    "ture_negative_number = 0\n",
    "\n",
    "for i in range(len(Enron_data)):\n",
    "    input_text, output_Enron, len_output = read_each_email(i)\n",
    "    output_spacy = get_predict_from_spacy(input_text)\n",
    "    len_spacy = len(output_spacy)\n",
    "    \n",
    "    output_corrected_by_human = []\n",
    "    \n",
    "    for n in range(len_output):\n",
    "        if output_Enron[n][2] != '':\n",
    "            output_corrected_by_human.append(output_Enron[n][:3])\n",
    "    \n",
    "    if complete_match(output_corrected_by_human, output_spacy) == 1:\n",
    "        if output_spacy == []:\n",
    "            ture_negative_number += 1\n",
    "        else:\n",
    "            complete_correct_number += 1\n",
    "        #print(i, \" Completely Match enron human: \", output_corrected_by_human, \" spacy: \", output_spacy)\n",
    "        \n",
    "    elif correct_find(output_corrected_by_human, output_spacy) == len(output_corrected_by_human):\n",
    "        position_find_number += 1\n",
    "        #print(i, \" Position Match enron human: \", output_corrected_by_human, \" spacy: \", output_spacy)\n",
    "\n",
    "    else:\n",
    "        if len_spacy > len_output:  # spacy has false positive\n",
    "            if TrueP_with_FalseP(output_corrected_by_human, output_spacy) == 1:\n",
    "                false_positive_number += 1\n",
    "                #print(i, \" FP enron human: \", target_corrected_by_human, \" spacy: \", target_spacy)\n",
    "            elif correct_find(output_corrected_by_human, output_spacy) >=1:\n",
    "                false_positive_number += 1\n",
    "            else:\n",
    "                print(i, \" enron human: \", output_corrected_by_human, \" spacy: \", output_spacy)\n",
    "        elif len_spacy < len_output:  # spacy has false negative\n",
    "            \n",
    "            if TrueP_with_FalseN(output_corrected_by_human, output_spacy) == 1:\n",
    "                false_negative_number += 1\n",
    "                #print(i, \" FN enron human: \", output_corrected_by_human, \" spacy: \", output_spacy)\n",
    "            elif correct_find(output_corrected_by_human, output_spacy) >=1:\n",
    "                false_negative_number += 1\n",
    "            elif len_spacy == 0 and len_output >0 :\n",
    "                false_negative_number += 1\n",
    "                #print(input_text)\n",
    "                #print(i, \" enron human: \", output_corrected_by_human, \" spacy: \", output_spacy)\n",
    "            else:\n",
    "                print(i, \" enron human: \", output_corrected_by_human, \" spacy: \", output_spacy)\n",
    "\n",
    "    \n",
    "print(\"complete_correct_number Positive: \", complete_correct_number)\n",
    "print(\"All position found: \", position_find_number)\n",
    "print(\"True Positive: \", complete_correct_number + position_find_number)\n",
    "print(\"True Negative: \", ture_negative_number)\n",
    "print(\"with false positive number: \", false_positive_number)\n",
    "print(\"with false negative number: \", false_negative_number)"
   ]
  },
  {
   "cell_type": "markdown",
   "metadata": {},
   "source": [
    "Here use the following matrix to analyze results\n",
    "\n",
    "|               |Predict Positive        | Predict Negative           |\n",
    "| ------------- |:-------------:| -----:|\n",
    "| Positive      | True Positive | False Negative |\n",
    "| Negative      | False Positive| True Negative  |\n",
    "\n",
    "Based on the result from above step, it is easy to find: \n",
    "- count completely matched result and All position found result together: 73 + 26 + 115 = 214\n",
    "- there are 11 email found at least one name, meanwhile missed at least one name\n",
    "- there are 70 emails didn't generate name.\n",
    "- there are 4 email found false name.\n",
    "\n",
    "When only consider correct results, then:\n",
    "- Accuracy = (True Positive + True Negative)/ Total = (188 + 26) / 310 = 0.69\n",
    "- Recall = True Positive/(True Positive + False Negative) = 188/(188+81) = 0.70\n"
   ]
  },
  {
   "cell_type": "markdown",
   "metadata": {},
   "source": [
    "<a id='step3'></a>\n",
    "## Step 3: Load OntoNotes Dataset\n",
    "\n",
    "### Load OntoNotes.json file"
   ]
  },
  {
   "cell_type": "code",
   "execution_count": 11,
   "metadata": {},
   "outputs": [
    {
     "name": "stdout",
     "output_type": "stream",
     "text": [
      "<class 'list'>\n",
      "5000\n"
     ]
    }
   ],
   "source": [
    "# Open JSON file\n",
    "with open('OntoNotes.json') as json_file:\n",
    "    Onto_data = json.load(json_file)\n",
    "    \n",
    "    print(type(Onto_data))\n",
    "    print(len(Onto_data))"
   ]
  },
  {
   "cell_type": "code",
   "execution_count": 12,
   "metadata": {},
   "outputs": [
    {
     "name": "stdout",
     "output_type": "stream",
     "text": [
      "['The head of the Palestinian Television and Radio has been shot dead in the Gaza Strip .', {'entities': [[12, 48, 'ORG'], [71, 85, 'GPE']]}]\n",
      "Onto_data[0] type: <class 'list'>\n",
      "The head of the Palestinian Television and Radio has been shot dead in the Gaza Strip .\n",
      "[[12, 48, 'ORG'], [71, 85, 'GPE']]\n"
     ]
    },
    {
     "data": {
      "text/plain": [
       "[[12, 48, 'ORG']]"
      ]
     },
     "execution_count": 12,
     "metadata": {},
     "output_type": "execute_result"
    }
   ],
   "source": [
    "print(Onto_data[0])\n",
    "print(\"Onto_data[0] type:\",type(Onto_data[0]))\n",
    "print(Onto_data[0][0])\n",
    "output_Onto = Onto_data[0][1]['entities']\n",
    "print(output_Onto)\n",
    "\n",
    "output_test = []\n",
    "for value in output_Onto:\n",
    "    if value[2] == 'ORG':\n",
    "        output_test.append(value)\n",
    "output_test"
   ]
  },
  {
   "cell_type": "code",
   "execution_count": 13,
   "metadata": {},
   "outputs": [
    {
     "name": "stdout",
     "output_type": "stream",
     "text": [
      "The head of the Palestinian Television and Radio has been shot dead in the Gaza Strip .\n",
      "[[12, 38, 'ORG'], [43, 48, 'ORG']]\n"
     ]
    }
   ],
   "source": [
    "input_text = str(Onto_data[0][0])\n",
    "print(input_text)\n",
    "output_spacy = get_predict_from_spacy(input_text)\n",
    "print(output_spacy)"
   ]
  },
  {
   "cell_type": "code",
   "execution_count": 14,
   "metadata": {},
   "outputs": [],
   "source": [
    "def read_output_from_OntoNotes(n):\n",
    "    info = Onto_data[n]\n",
    "    input_text = str(Onto_data[n][0])\n",
    "    output = Onto_data[n][1]['entities']\n",
    "    output_Onto = []\n",
    "    for value in output:\n",
    "        if value[2] == 'ORG':\n",
    "            output_Onto.append(value)\n",
    "    \n",
    "    return input_text, output_Onto"
   ]
  },
  {
   "cell_type": "markdown",
   "metadata": {},
   "source": [
    "<a id='step4'></a>\n",
    "## Step 4: Analyze spacy model performace on OntoSentences file"
   ]
  },
  {
   "cell_type": "code",
   "execution_count": 15,
   "metadata": {},
   "outputs": [
    {
     "name": "stdout",
     "output_type": "stream",
     "text": [
      "complete_correct_number Positive:  1397\n",
      "All position found:  190\n",
      "True Positive:  1587\n",
      "True Negative:  3341\n",
      "with false positive number:  7\n",
      "with false negative number:  61\n"
     ]
    }
   ],
   "source": [
    "complete_correct_number = 0\n",
    "position_find_number = 0\n",
    "false_positive_number = 0\n",
    "false_negative_number = 0\n",
    "ture_negative_number = 0\n",
    "\n",
    "for n in range(len(Onto_data)):\n",
    "    input_text, output_Onto = read_output_from_OntoNotes(n)\n",
    "    len_output = len(output_Onto)\n",
    "    output_spacy = get_predict_from_spacy(input_text)\n",
    "    len_spacy = len(output_spacy)\n",
    "    \n",
    "    if complete_match(output_Onto, output_spacy) == 1:\n",
    "        if output_spacy == []:\n",
    "            ture_negative_number += 1\n",
    "        else:\n",
    "            complete_correct_number += 1\n",
    "        #print(i, \" Completely Match OntoSentences: \", output_Onto, \" spacy: \", output_spacy)\n",
    "    elif correct_find(output_Onto, output_spacy) == len(output_Onto):\n",
    "        position_find_number += 1     \n",
    "    \n",
    "    else:\n",
    "        if len_spacy > len_output:  # spacy has false positive\n",
    "            if TrueP_with_FalseP(output_Onto, output_spacy) == 1:\n",
    "                false_positive_number += 1\n",
    "                #print(n, \" FP OntoSentences: \", output_Onto, \" spacy: \", target_spacy)\n",
    "            elif correct_find(output_Onto, output_spacy) >=1:\n",
    "                #print(n, \" FP OntoSentences: \", output_Onto, \" spacy: \", target_spacy)\n",
    "                false_positive_number += 1\n",
    "            else:\n",
    "                print(n, \" OntoSentences: \", output_Onto, \" spacy: \", output_spacy)\n",
    "        \n",
    "        elif len_spacy < len_output:  # spacy has false negative\n",
    "            \n",
    "            if TrueP_with_FalseN(output_Onto, output_spacy) == 1:\n",
    "                false_negative_number += 1\n",
    "               # print(n, \" FN OntoSentences: \", output_Onto, \" spacy: \", output_spacy)\n",
    "            elif correct_find(output_Onto, output_spacy) >=1:\n",
    "                false_negative_number += 1\n",
    "            elif len_spacy == 0 and len_output >0 :\n",
    "                false_negative_number += 1\n",
    "                #print(input_text)\n",
    "                #print(n, \" OntoSentences: \", output_Onto, \" spacy: \", output_spacy)\n",
    "            else:\n",
    "                print(n, \" OntoSentences: \", output_Onto, \" spacy: \", output_spacy)\n",
    "                \n",
    "print(\"complete_correct_number Positive: \", complete_correct_number)\n",
    "print(\"All position found: \", position_find_number)\n",
    "print(\"True Positive: \", complete_correct_number + position_find_number)\n",
    "print(\"True Negative: \", ture_negative_number)\n",
    "print(\"with false positive number: \", false_positive_number)\n",
    "print(\"with false negative number: \", false_negative_number)\n"
   ]
  },
  {
   "cell_type": "markdown",
   "metadata": {},
   "source": [
    "Based on the result from above step, it is easy to find: \n",
    "- count completely matched result and All position found result together: 1397 + 190 + 3341 = 4928\n",
    "- there are 14 email found at least one name, meanwhile missed at least one name\n",
    "- there are 47 emails didn't generate name.\n",
    "- there are 7 email found false name.\n",
    "\n",
    "When only consider correct results, then:\n",
    "- Accuracy = (True Positive + True Negative)/ Total = (1587 + 3341) / 5000 = 0.99\n",
    "- Recall = True Positive/(True Positive + False Negative) = 1587/(1587+61) = 0.96\n"
   ]
  }
 ],
 "metadata": {
  "anaconda-cloud": {},
  "kernelspec": {
   "display_name": "Python 3",
   "language": "python",
   "name": "python3"
  },
  "language_info": {
   "codemirror_mode": {
    "name": "ipython",
    "version": 3
   },
   "file_extension": ".py",
   "mimetype": "text/x-python",
   "name": "python",
   "nbconvert_exporter": "python",
   "pygments_lexer": "ipython3",
   "version": "3.7.4"
  }
 },
 "nbformat": 4,
 "nbformat_minor": 1
}
