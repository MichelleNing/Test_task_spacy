{
 "cells": [
  {
   "cell_type": "markdown",
   "metadata": {},
   "source": [
    "# Test Task\n",
    "\n",
    "# Analyze the organization name recognition system and dataset annotations\n",
    "\n",
    "\n",
    "\n",
    "### The Road Ahead\n",
    "\n",
    "Here, break the notebook into separate steps.\n",
    "\n",
    "* [Step 1](#step1): Load Enron Dataset\n",
    "* [Step 2](#step2): Analyze spacy model performace on Enron file\n",
    "* [Step 3](#step3): Load OntoNotes Dataset\n",
    "* [Step 4](#step4): Analyze spacy model performace on OntoSentences file\n",
    "\n",
    "---\n",
    "<a id='step1'></a>\n",
    "## Step 1: Load Enron Dataset\n",
    "\n",
    "### 1.1 Load Enron Dataset\n",
    "Open and load EnronSentences.json file\n",
    "The type of the data is list and length = 310"
   ]
  },
  {
   "cell_type": "code",
   "execution_count": 1,
   "metadata": {},
   "outputs": [
    {
     "name": "stdout",
     "output_type": "stream",
     "text": [
      "<class 'list'>\n",
      "310\n"
     ]
    }
   ],
   "source": [
    "import json\n",
    "\n",
    "# Open JSON file\n",
    "with open('EnronSentences.json') as json_file:\n",
    "    Enron_data = json.load(json_file)\n",
    "    \n",
    "    print(type(Enron_data))\n",
    "    print(len(Enron_data))"
   ]
  },
  {
   "cell_type": "markdown",
   "metadata": {},
   "source": [
    "### 1.2 Take the first email as an example.\n",
    "#### Email is read in dict. "
   ]
  },
  {
   "cell_type": "code",
   "execution_count": 2,
   "metadata": {},
   "outputs": [
    {
     "name": "stdout",
     "output_type": "stream",
     "text": [
      "{'text': 'Shelley: Do you have any information on Project Max that we could use in the business plan for NNG?', 'machine_entities': [[95, 98, 'ORG', 'machine']], 'human_entities': {}}\n",
      "Enron_data[0] type: <class 'dict'>\n"
     ]
    }
   ],
   "source": [
    "# print an email and check content\n",
    "print(Enron_data[0])\n",
    "print(\"Enron_data[0] type:\",type(Enron_data[0]))"
   ]
  },
  {
   "cell_type": "markdown",
   "metadata": {},
   "source": [
    "#### Check keys and its value."
   ]
  },
  {
   "cell_type": "code",
   "execution_count": 3,
   "metadata": {},
   "outputs": [
    {
     "name": "stdout",
     "output_type": "stream",
     "text": [
      "dict_keys(['text', 'machine_entities', 'human_entities'])\n",
      "Shelley: Do you have any information on Project Max that we could use in the business plan for NNG?\n",
      "<class 'list'>   [[95, 98, 'ORG', 'machine']]\n",
      "[95, 98, 'ORG']\n",
      "machine\n"
     ]
    }
   ],
   "source": [
    "# check each dictionary keys and value\n",
    "print(Enron_data[0].keys())\n",
    "input_text = Enron_data[0]['text']\n",
    "output = Enron_data[0]['machine_entities']\n",
    "print(input_text)\n",
    "print(type(output), \" \", output)\n",
    "print(output[0][:3])\n",
    "print(output[0][-1])"
   ]
  },
  {
   "cell_type": "markdown",
   "metadata": {},
   "source": [
    "### 1.3 Import spacy and analyze the first email."
   ]
  },
  {
   "cell_type": "code",
   "execution_count": 4,
   "metadata": {},
   "outputs": [],
   "source": [
    "import spacy\n",
    "\n",
    "nlp = spacy.load(\"en_core_web_sm\")    "
   ]
  },
  {
   "cell_type": "code",
   "execution_count": 5,
   "metadata": {},
   "outputs": [
    {
     "name": "stdout",
     "output_type": "stream",
     "text": [
      "[[95, 98, 'ORG']]\n"
     ]
    }
   ],
   "source": [
    "doc = nlp(input_text)\n",
    "output_spacy = []\n",
    "for ent in doc.ents:\n",
    "    if ent.label_ == \"ORG\":\n",
    "        output_spacy.append([ent.start_char,ent.end_char,ent.label_])\n",
    "print(output_spacy)"
   ]
  },
  {
   "cell_type": "markdown",
   "metadata": {},
   "source": [
    "#### Compare the value got from spacy and file"
   ]
  },
  {
   "cell_type": "code",
   "execution_count": 6,
   "metadata": {},
   "outputs": [
    {
     "name": "stdout",
     "output_type": "stream",
     "text": [
      "True\n"
     ]
    }
   ],
   "source": [
    "result = output[0][:3] == output_spacy[0]\n",
    "print(result)"
   ]
  },
  {
   "cell_type": "markdown",
   "metadata": {},
   "source": [
    "<a id='step2'></a>\n",
    "## Step 2: Analyze spacy model performace on Enron file\n"
   ]
  },
  {
   "cell_type": "code",
   "execution_count": 7,
   "metadata": {},
   "outputs": [],
   "source": [
    "def read_each_email(n):\n",
    "    \"\"\"\n",
    "    Read each email and return:\n",
    "        - email content(input_text)\n",
    "        - email annotated output(output)\n",
    "        - number of annotated named(len_output)\n",
    "    \"\"\"\n",
    "    input_text = Enron_data[n]['text']\n",
    "    output_machine = Enron_data[n]['machine_entities']\n",
    "    len_machine = len(output_machine)\n",
    "    len_output = 0\n",
    "    output = []\n",
    "    \n",
    "    if Enron_data[n]['human_entities'] != {}:\n",
    "\n",
    "        output_human_dict = Enron_data[n]['human_entities']\n",
    "        output = list(output_human_dict.values())[0]\n",
    "        \n",
    "        len_human = len(output)\n",
    "    else:\n",
    "        output = output_machine\n",
    "        len_output = len_machine\n",
    "    \n",
    "    return input_text, output, len_output\n"
   ]
  },
  {
   "cell_type": "code",
   "execution_count": 8,
   "metadata": {},
   "outputs": [],
   "source": [
    "def get_predict_from_spacy(input_text):\n",
    "    \"\"\"\n",
    "    Spacy is used to annotate ORG name from email content\n",
    "    Return annotated result\n",
    "    \"\"\"\n",
    "    doc = nlp(input_text)\n",
    "    output_spacy = []\n",
    "    for ent in doc.ents:\n",
    "        if ent.label_ == \"ORG\":\n",
    "            output_spacy.append([ent.start_char,ent.end_char,ent.label_])\n",
    "    \n",
    "    return output_spacy"
   ]
  },
  {
   "cell_type": "code",
   "execution_count": 9,
   "metadata": {},
   "outputs": [],
   "source": [
    "def complete_match(output, predict):\n",
    "    \"\"\"\n",
    "    Check weather Spacy's predict has the same result of target\n",
    "    output - Enron result\n",
    "    predict - Spacy's predict\n",
    "    \"\"\"\n",
    "    if predict == output:\n",
    "        return 1\n",
    "    else:\n",
    "        return 0\n",
    "\n",
    "def correct_find(output, predict):\n",
    "    \"\"\"\n",
    "    find whether the names annotated by spacy are in the range of target\n",
    "    output - Enron result\n",
    "    predict - Spacy's predict\n",
    "    \n",
    "    The name annotated by spacy sometime starts or ends with different position from target.\n",
    "    However, sometimes, a part of the name is annotated by spacy.\n",
    "    This situation is considered as spacy found name correctly.\n",
    "    \"\"\"\n",
    "    find_name = 0\n",
    "    for value_predict in predict:\n",
    "        for value_output in output:\n",
    "            if value_predict[0] > value_output[1] or value_predict[1] < value_output[0]:\n",
    "                find_name += 0\n",
    "            else:\n",
    "                find_name += 1\n",
    "    return find_name\n"
   ]
  },
  {
   "cell_type": "code",
   "execution_count": 10,
   "metadata": {},
   "outputs": [],
   "source": [
    "import pandas as pd\n",
    "import re\n",
    "from string import punctuation\n",
    "\n",
    "id_list = []\n",
    "length_list = []\n",
    "uppercase_num_list = []\n",
    "punctuation_num_list = []\n",
    "digital_num_list = []\n",
    "result_list = []\n",
    "\n",
    "def save_to_csv(file_name):\n",
    "    \"\"\"\n",
    "    save email features to a csv file\n",
    "    \"\"\"\n",
    "    \n",
    "    df = pd.DataFrame(list(zip(id_list, length_list, uppercase_num_list, punctuation_num_list, digital_num_list, result_list)), \n",
    "               columns =['ID', 'sentence_length', 'uppercase_number', 'punctuation_number', 'digital_number', 'result']) \n",
    "    df.to_csv(file_name, index=False)\n",
    "\n",
    "def record_feature_and_result(i, input_text, result):\n",
    "    \"\"\"\n",
    "    collect features and result of an email\n",
    "    \"\"\"\n",
    "    \n",
    "    id_list.append(i)\n",
    "    \n",
    "    sentence_len = len(input_text)\n",
    "    length_list.append(sentence_len)\n",
    "    \n",
    "    uppercase_num = len(re.findall(r'[A-Z]', input_text))\n",
    "    uppercase_num_list.append(uppercase_num)\n",
    "    \n",
    "    punctuation_num = sum([1 for c in input_text if c in punctuation])\n",
    "    punctuation_num_list.append(punctuation_num)\n",
    "    \n",
    "    digital_num = len(re.sub(\"[^0-9]\", \"\", input_text))\n",
    "    digital_num_list.append(digital_num)\n",
    "    \n",
    "    result_list.append(result)    "
   ]
  },
  {
   "cell_type": "markdown",
   "metadata": {},
   "source": [
    "### 2.1 Use spacy to analyze all emails in Enron file\n",
    "\n",
    "For each email in Enron, compare spacy output and Enron target result"
   ]
  },
  {
   "cell_type": "code",
   "execution_count": 11,
   "metadata": {
    "scrolled": true
   },
   "outputs": [
    {
     "name": "stdout",
     "output_type": "stream",
     "text": [
      "complete_correct_number Positive:  73\n",
      "All position found:  115\n",
      "True Positive:  188\n",
      "True Negative:  26\n",
      "with false positive number:  13\n",
      "with false negative number:  83\n"
     ]
    }
   ],
   "source": [
    "complete_correct_number = 0\n",
    "position_find_number = 0\n",
    "false_positive_number = 0\n",
    "false_negative_number = 0\n",
    "ture_negative_number = 0\n",
    "result = 0 \n",
    "\n",
    "for i in range(len(Enron_data)):\n",
    "    input_text, output_Enron, len_output = read_each_email(i)\n",
    "    output_spacy = get_predict_from_spacy(input_text)\n",
    "    len_spacy = len(output_spacy)\n",
    "    \n",
    "    output_corrected_by_human = []\n",
    "    \n",
    "    for n in range(len_output):\n",
    "        if output_Enron[n][2] != '':\n",
    "            output_corrected_by_human.append(output_Enron[n][:3])\n",
    "    \n",
    "    if complete_match(output_corrected_by_human, output_spacy) == 1:\n",
    "        result = 1\n",
    "        if output_spacy == []:\n",
    "            ture_negative_number += 1\n",
    "        else:\n",
    "            complete_correct_number += 1\n",
    "        #print(i, \" Completely Match enron human: \", output_corrected_by_human, \" spacy: \", output_spacy)\n",
    "        \n",
    "    elif correct_find(output_corrected_by_human, output_spacy) == len(output_corrected_by_human):\n",
    "        result = 1\n",
    "        position_find_number += 1\n",
    "        #print(i, \" Position Match enron human: \", output_corrected_by_human, \" spacy: \", output_spacy)\n",
    "\n",
    "    else:\n",
    "        result = 0\n",
    "        if len_spacy >= len_output:  # spacy has false positive\n",
    "            false_positive_number += 1\n",
    "\n",
    "        elif len_spacy < len_output:  # spacy has false negative\n",
    "            false_negative_number += 1\n",
    "            #print(input_text)\n",
    "            #print(i, \" enron human: \", output_corrected_by_human, \" spacy: \", output_spacy)\n",
    "\n",
    "    record_feature_and_result(i, input_text, result)\n",
    "\n",
    "save_to_csv('EnronSentence_feature.csv')\n",
    "\n",
    "print(\"complete_correct_number Positive: \", complete_correct_number)\n",
    "print(\"All position found: \", position_find_number)\n",
    "print(\"True Positive: \", complete_correct_number + position_find_number)\n",
    "print(\"True Negative: \", ture_negative_number)\n",
    "print(\"with false positive number: \", false_positive_number)\n",
    "print(\"with false negative number: \", false_negative_number)"
   ]
  },
  {
   "cell_type": "markdown",
   "metadata": {},
   "source": [
    "Here use the following matrix to analyze results\n",
    "\n",
    "|               |Predict Positive        | Predict Negative           |\n",
    "| ------------- |:-------------:| -----:|\n",
    "| Positive      | True Positive | False Negative |\n",
    "| Negative      | False Positive| True Negative  |\n",
    "\n",
    "Based on the result from above step, it is easy to find: \n",
    "- there are 73 emails correctly annotate ORG by spacy\n",
    "- there are 115 emaild can include then names needed to be annotated by spacy\n",
    "- there are 26 emails don't have ORG name checked by spacy, the same as Enton file\n",
    "- there are 2 emails annotated with wrong ORG name by spacy\n",
    "- there are 83 emails which can not be annotated ORG name by spacy\n",
    "- hence,\n",
    "        True Positive = 73 + 115 = 188\n",
    "        True Negative = 26\n",
    "        False Positive = 13\n",
    "        False Negative = 83\n",
    "\n",
    "When only consider correct results, then:\n",
    "- Accuracy = (True Positive + True Negative)/ Total = (188 + 26) / 310 = 0.69\n",
    "- Recall = True Positive/(True Positive + False Negative) = 188/(188+83) = 0.69\n",
    "\n"
   ]
  },
  {
   "cell_type": "markdown",
   "metadata": {},
   "source": [
    "### 2.2 Compare features of email\n",
    "Use collected email features: \n",
    "    - email length, \n",
    "    - uppercase word number, \n",
    "    - punctuation number, \n",
    "    - digital number\n",
    "to compare emails successfully annotated by spacy and emails can not be annotated."
   ]
  },
  {
   "cell_type": "code",
   "execution_count": 13,
   "metadata": {},
   "outputs": [
    {
     "data": {
      "text/plain": [
       "[Text(0, 0.5, 'Result'), Text(0.5, 0, 'Digital Number')]"
      ]
     },
     "execution_count": 13,
     "metadata": {},
     "output_type": "execute_result"
    },
    {
     "data": {
      "image/png": "[encoded data removed]",
      "text/plain": [
       "<Figure size 1080x1080 with 4 Axes>"
      ]
     },
     "metadata": {
      "needs_background": "light"
     },
     "output_type": "display_data"
    }
   ],
   "source": [
    "import matplotlib.pyplot as plt\n",
    "\"\"\"\n",
    "length_list\n",
    "uppercase_num_list\n",
    "punctuation_num_list\n",
    "digital_num_list\n",
    "result_list\n",
    "\"\"\"\n",
    "\n",
    "x1 = length_list\n",
    "x2 = uppercase_num_list\n",
    "x3 = punctuation_num_list\n",
    "x4 = digital_num_list\n",
    "y = result_list\n",
    "\n",
    "fig, axs = plt.subplots(2, 2, figsize=(15,15))\n",
    "axs[0,0].scatter(x1, y, marker='o')\n",
    "axs[0,0].set_title('Email Length VS Result')\n",
    "axs[0,0].set(xlabel='Email length', ylabel='Result')\n",
    "\n",
    "axs[0,1].scatter(x2, y, marker='o')\n",
    "axs[0,1].set_title('Uppercase Number VS Result')\n",
    "axs[0,1].set(xlabel='Uppercase Number', ylabel='Result')\n",
    "\n",
    "axs[1,0].scatter(x3, y, marker='o')\n",
    "axs[1,0].set_title('Punctuation Number VS Result')\n",
    "axs[1,0].set(xlabel='Punctuation Number', ylabel='Result')\n",
    "\n",
    "axs[1,1].scatter(x4, y, marker='o')\n",
    "axs[1,1].set_title('Digital Number VS Result')\n",
    "axs[1,1].set(xlabel='Digital Number', ylabel='Result')"
   ]
  },
  {
   "cell_type": "markdown",
   "metadata": {},
   "source": [
    "### Feature analysis\n",
    "\n",
    "Based on the four figures listed above, found that it is difficult to admit these feature would effact spacy analysis.\n",
    "\n",
    "#### Email length\n",
    "There is no big difference for spacy analysis when email length shorter than 150.\n",
    "When email length is longer than 150, spacy has a liiter higher accuracy.\n",
    "\n",
    "#### Uppercase word number, Punctuation number, Digital number\n",
    "From the plotted figure, it is hard to say Spacy would be effected by these three reasons."
   ]
  },
  {
   "cell_type": "markdown",
   "metadata": {},
   "source": [
    "### 2.3 Move to ORG Name Analysis\n",
    "\n",
    "In the next session, collect words that spacy successfully annotated, and words that spacy failed to annotate."
   ]
  },
  {
   "cell_type": "code",
   "execution_count": 14,
   "metadata": {},
   "outputs": [
    {
     "name": "stdout",
     "output_type": "stream",
     "text": [
      "Names annotate by Spacy: \n",
      "\n",
      "['NNG', 'ENA', 'Sierra', 'Oxley', 'CEC', 'East', 'ICAP', 'Stinson/Vince', 'Enron', 'ENA', 'Trust', 'Ambac', \"Moody's\", 'AAA', 'Standard', 'Central', 'Enron', 'Global', 'Enron', 'PEPL', 'Texas', 'Christi', 'RAC', 'Eastern', 'HPL', 'Enron', 'MILLS', 'Supervisor', 'MILLS', 'SHRM', 'CRRA', 'Yahoo', 'FBI', 'CommodityLogic', 'Nicor', 'Nicor', 'The', 'Peoples', 'Enron', 'Enron', 'EOTT', 'Enron', 'Enron', 'EOTT', 'Associates', 'Enron', 'Morton', 'ENA', 'HSC', 'Cinergy', 'ENA', 'NDA', 'Enron', 'Enron', 'CSA', 'Harvard', 'Wal-Mart', 'Yahoo', 'SoCal', 'Corp.', 'Amazon.com', 'Amazon.com', 'DealBench', 'ProCaribe', 'LPG', 'ProCaribe', 'Bracewell', 'FYI', 'GPG', 'Reserve', 'GTC', 'Delphi', 'Enron', 'FYI', 'Enron', 'Travelocity.com', 'Socal', 'ECT', 'FYI', 'CI', 'Containerisation', 'Containerisation', 'Reuters', 'Shelley', 'Japanese', 'EES', 'Board', 'HPL', 'ENA', 'ENA', 'Central', 'Gallup', 'Dennis', 'CLEC', 'Zone', 'Canadian', 'Cordes', 'Lotus', 'DETM', 'Model', 'Groups', 'CFTC', 'NNG/TW', 'Harvard', 'Kansas', 'Enron', 'VAR', 'RisktRac', 'VAR', 'ENA', 'VAR', 'Business', 'Theresa', 'Baker', 'LV', 'Enron', 'Leon', 'xferring', 'Fastow', 'Enron', 'Megawatt-Daily', 'US', 'Legislature', 'PG&E', 'CPUC', 'Enron', 'Texas', 'Transwestern', 'TW', 'Burlington', 'PG&E', 'EOT', 'NDA', 'VMAC', 'VMAC', 'Nymex', 'EIM', 'Intergen', 'Legal', 'GMC', 'ISO', 'ISO', 'ISDA', 'Franklin', 'Nicor', 'Illinois', 'Dunn', 'AG', 'LA', 'Morrow', 'Real', 'BPA', 'Lone', 'Plant', 'CNN', 'CNN', 'The', 'Contact', 'Maclaren', 'Sierra', 'ENA', 'Allen', 'Meredith', 'Sports']\n",
      "Totally found:  164  times\n",
      "\n",
      "Names can not be annotate by Spacy: \n",
      "\n",
      "['Westheimer', 'Westheimer', 'CEC', 'Ken', \"Moody's\", 'AAA', 'GMT-06:00', 'GMT-06:00', 'Central', 'Texas', 'TE', 'MILLS', 'The', 'Enron', 'Enron', 'Associates', 'Morton', 'Morton', 'CIAC', 'CPUC', 'NDA-Credit2B.com', 'ProCaribe', 'LPG', 'ProCaribe', '~2900', 'Socal', 'Credit', 'ISDA', 'Nicor', 'AEP', 'HPL', 'ENA', 'ENA', 'Central', 'Katherine', 'Katherine', 'Paul,', 'WordPerfect', 'Rich', 'Enron', 'Essie', 'Leon', 'Fastow', 'Enron', 'EOL', 'Rob', 'PG&E', 'Burlington', 'PG&E', 'EOT', 'Burlington', 'PG&E', 'EOT', 'Nymex', 'Master', 'ISDA', 'Nicor', 'Real', 'Annette', 'Contact', 'Sierra', 'Maclaren', 'ENA']\n",
      "Totally not found:  63  times\n",
      "\n"
     ]
    }
   ],
   "source": [
    "name_true_pos_num = 0\n",
    "name_true_neg_num = 0\n",
    "name_false_pos_num = 0\n",
    "name_false_neg_num = 0\n",
    "\n",
    "name_found = []\n",
    "name_missed = []\n",
    "\n",
    "def find_word(value, text):\n",
    "    \"\"\"\n",
    "    According to the start and end position to find the ORG name\n",
    "    \"\"\"\n",
    "    if value != []:\n",
    "        start = value[0]\n",
    "        end = value[1]\n",
    "        word = text[start:end]\n",
    "        return word\n",
    "    else:\n",
    "        pass\n",
    "\n",
    "for i in range(len(Enron_data)):\n",
    "    input_text, output_Enron, len_output = read_each_email(i)\n",
    "    output_spacy = get_predict_from_spacy(input_text)\n",
    "    len_spacy = len(output_spacy)\n",
    "    \n",
    "    output_corrected_by_human = []\n",
    "    \n",
    "    for n in range(len_output):\n",
    "        if output_Enron[n][2] != '':\n",
    "            output_corrected_by_human.append(output_Enron[n][:3])\n",
    "    \n",
    "    if output_spacy != [[]]:\n",
    "        \n",
    "        for m in range(len_spacy):\n",
    "            if output_spacy[m] in output_corrected_by_human and output_spacy[m] != []:\n",
    "                name = find_word(output_spacy[m], input_text)\n",
    "                name_found.append(name)\n",
    "            else:\n",
    "                for value in output_corrected_by_human:\n",
    "                    name = find_word(value, input_text)\n",
    "                        \n",
    "                    if output_spacy[m][0] < value[1] and output_spacy[m][1] > value[0]:\n",
    "                        name_found.append(name)\n",
    "                    else:\n",
    "                        name_missed.append(name)\n",
    "    else:\n",
    "        if output_corrected_by_human != [[]]:\n",
    "            for value in output_corrected_by_human:\n",
    "                name = find_word(value, input_text)\n",
    "                name_missed.append(name)\n",
    "\n",
    "print(\"Names annotate by Spacy: \\n\")\n",
    "print(name_found)\n",
    "print(\"Totally found: \", len(name_found), \" times\\n\")\n",
    "print(\"Names can not be annotate by Spacy: \\n\")\n",
    "print(name_missed)\n",
    "print(\"Totally not found: \", len(name_missed), \" times\\n\")"
   ]
  },
  {
   "cell_type": "code",
   "execution_count": 15,
   "metadata": {},
   "outputs": [
    {
     "name": "stdout",
     "output_type": "stream",
     "text": [
      "Counter({'Enron': 17, 'ENA': 8, 'Nicor': 3, 'FYI': 3, 'VAR': 3, 'Sierra': 2, 'Central': 2, 'Texas': 2, 'HPL': 2, 'MILLS': 2, 'Yahoo': 2, 'The': 2, 'EOTT': 2, 'NDA': 2, 'Harvard': 2, 'Amazon.com': 2, 'ProCaribe': 2, 'Containerisation': 2, 'PG&E': 2, 'VMAC': 2, 'ISO': 2, 'CNN': 2, 'NNG': 1, 'Oxley': 1, 'CEC': 1, 'East': 1, 'ICAP': 1, 'Stinson/Vince': 1, 'Trust': 1, 'Ambac': 1, \"Moody's\": 1, 'AAA': 1, 'Standard': 1, 'Global': 1, 'PEPL': 1, 'Christi': 1, 'RAC': 1, 'Eastern': 1, 'Supervisor': 1, 'SHRM': 1, 'CRRA': 1, 'FBI': 1, 'CommodityLogic': 1, 'Peoples': 1, 'Associates': 1, 'Morton': 1, 'HSC': 1, 'Cinergy': 1, 'CSA': 1, 'Wal-Mart': 1, 'SoCal': 1, 'Corp.': 1, 'DealBench': 1, 'LPG': 1, 'Bracewell': 1, 'GPG': 1, 'Reserve': 1, 'GTC': 1, 'Delphi': 1, 'Travelocity.com': 1, 'Socal': 1, 'ECT': 1, 'CI': 1, 'Reuters': 1, 'Shelley': 1, 'Japanese': 1, 'EES': 1, 'Board': 1, 'Gallup': 1, 'Dennis': 1, 'CLEC': 1, 'Zone': 1, 'Canadian': 1, 'Cordes': 1, 'Lotus': 1, 'DETM': 1, 'Model': 1, 'Groups': 1, 'CFTC': 1, 'NNG/TW': 1, 'Kansas': 1, 'RisktRac': 1, 'Business': 1, 'Theresa': 1, 'Baker': 1, 'LV': 1, 'Leon': 1, 'xferring': 1, 'Fastow': 1, 'Megawatt-Daily': 1, 'US': 1, 'Legislature': 1, 'CPUC': 1, 'Transwestern': 1, 'TW': 1, 'Burlington': 1, 'EOT': 1, 'Nymex': 1, 'EIM': 1, 'Intergen': 1, 'Legal': 1, 'GMC': 1, 'ISDA': 1, 'Franklin': 1, 'Illinois': 1, 'Dunn': 1, 'AG': 1, 'LA': 1, 'Morrow': 1, 'Real': 1, 'BPA': 1, 'Lone': 1, 'Plant': 1, 'Contact': 1, 'Maclaren': 1, 'Allen': 1, 'Meredith': 1, 'Sports': 1})\n",
      "Counter({'Enron': 4, 'ENA': 3, 'PG&E': 3, 'Westheimer': 2, 'GMT-06:00': 2, 'Central': 2, 'Morton': 2, 'ProCaribe': 2, 'ISDA': 2, 'Nicor': 2, 'Katherine': 2, 'Burlington': 2, 'EOT': 2, 'CEC': 1, 'Ken': 1, \"Moody's\": 1, 'AAA': 1, 'Texas': 1, 'TE': 1, 'MILLS': 1, 'The': 1, 'Associates': 1, 'CIAC': 1, 'CPUC': 1, 'NDA-Credit2B.com': 1, 'LPG': 1, '~2900': 1, 'Socal': 1, 'Credit': 1, 'AEP': 1, 'HPL': 1, 'Paul,': 1, 'WordPerfect': 1, 'Rich': 1, 'Essie': 1, 'Leon': 1, 'Fastow': 1, 'EOL': 1, 'Rob': 1, 'Nymex': 1, 'Master': 1, 'Real': 1, 'Annette': 1, 'Contact': 1, 'Sierra': 1, 'Maclaren': 1})\n"
     ]
    }
   ],
   "source": [
    "from collections import Counter\n",
    "\n",
    "counts_found = Counter(name_found)\n",
    "print(counts_found)\n",
    "vocab_found = sorted(counts_found, key=counts_found.get, reverse=True)\n",
    "\n",
    "counts_missed = Counter(name_missed)\n",
    "print(counts_missed)\n",
    "vocab_missed = sorted(counts_missed, key=counts_missed.get, reverse=True)"
   ]
  },
  {
   "cell_type": "markdown",
   "metadata": {},
   "source": [
    "### Compared Names\n",
    "\n",
    "From the two word list, there are some words appeared in both list, like 'Enron', 'ENA', 'CEC', 'Central', 'Morton', 'EOT', 'PG&E'. Hence, next will consider the patterns of emails.\n",
    "\n",
    "Hence, it is difficult to say the reason why spacy didn't annotate the ORG is the Name.\n",
    "\n",
    "Then move to find other reason might cause the error. This needs to look into the email content.\n",
    "\n"
   ]
  },
  {
   "cell_type": "markdown",
   "metadata": {},
   "source": [
    "### 2.4 Email Content or Structure/Pattern Analysis\n",
    "\n",
    "The idea is that:\n",
    "for the email which spacy failed to annotate ORG name, try to do little change making spacy work again.\n",
    "\n",
    "If this idea would work, then we might figur out some reason."
   ]
  },
  {
   "cell_type": "code",
   "execution_count": 16,
   "metadata": {},
   "outputs": [
    {
     "data": {
      "text/plain": [
       "array([  2,   5,   6,   9,  13,  15,  16,  17,  18,  21,  23,  32,  36,\n",
       "        38,  41,  42,  48,  55,  60,  67,  73,  78,  80,  83,  85,  89,\n",
       "        91,  93,  97, 100, 103, 107, 109, 111, 112, 114, 115, 122, 124,\n",
       "       130, 136, 142, 143, 144, 149, 155, 160, 161, 163, 164, 167, 171,\n",
       "       180, 182, 185, 186, 190, 192, 193, 195, 200, 203, 204, 205, 206,\n",
       "       208, 211, 212, 219, 223, 225, 226, 229, 232, 234, 235, 237, 239,\n",
       "       241, 247, 251, 254, 255, 257, 258, 261, 264, 265, 267, 270, 275,\n",
       "       276, 282, 284, 288, 289])"
      ]
     },
     "execution_count": 16,
     "metadata": {},
     "output_type": "execute_result"
    }
   ],
   "source": [
    "# Generate the index list including all index id of emails which spacy failed to annotate\n",
    "\n",
    "df = pd.read_csv('EnronSentence_feature.csv')\n",
    "df_error = df[df['result']==0]\n",
    "df_error\n",
    "df_error['ID'].values"
   ]
  },
  {
   "cell_type": "code",
   "execution_count": 17,
   "metadata": {},
   "outputs": [
    {
     "name": "stdout",
     "output_type": "stream",
     "text": [
      "Mary, Jason Orta from the CEC called me to inform us that one of the generator numbers we had used was wrong.\n",
      "Position:  [[26, 29, 'ORG', 'machine']]   ORG Name:  ['CEC']\n",
      "=======================\n",
      "Steve Harris and the Transwestern Commercial Team would like to extend an invitation to our Christmas Luncheon on Wednesday, December 13, 11:30 a.m. at the Rodizio Restaurant on Westheimer and Chimney Rock.\n",
      "Position:  [[178, 188, 'ORG', 'machine']]   ORG Name:  ['Westheimer']\n",
      "=======================\n",
      "What does the Gingerbread Boy have on his bed?\n",
      "Position:  [[14, 25, 'ORG', 'machine']]   ORG Name:  ['Gingerbread']\n",
      "=======================\n",
      "I would like to set up a GISB agreement to trade with Sempra.\n",
      "Position:  [[25, 29, 'ORG', 'machine']]   ORG Name:  ['GISB']\n",
      "=======================\n",
      "NOTE: Circulation of the \"Electricity Daily Demand Forecast\" outside a Client's licensed distribution area is strictly prohibited.\n",
      "Position:  [[71, 77, 'ORG', 'machine']]   ORG Name:  ['Client']\n",
      "=======================\n",
      "Please advise if ENA is ok to reference in the Confirmation.\n",
      "Position:  [[17, 20, 'ORG', 'machine'], [47, 59, 'ORG', 'machine']]   ORG Name:  ['ENA', 'Confirmation']\n",
      "=======================\n",
      "Steve indicated below that he talked to Ken at Frontera.\n",
      "Position:  [[40, 43, 'ORG', 'machine']]   ORG Name:  ['Ken']\n",
      "=======================\n",
      "Introducing NASDAQ-100 Index TIERS (sm) Principal-Protected* Trust Certificates TIERS Nasdaq-100 Principal-Protected* Trust Certificates are securities whose return is linked to the performance of the Nasdaq-100 Index.\n",
      "Position:  [[40, 60, 'ORG', 'machine']]   ORG Name:  ['Principal-Protected*']\n",
      "=======================\n",
      "At maturity, the Trust is scheduled to repay the entire principal amount of the certificates, plus an amount based on the return of the Nasdaq-100 Index subject to a quarterly appreciation cap of 12%.\n",
      "Position:  [[17, 22, 'ORG', 'machine'], [136, 146, 'ORG', 'machine']]   ORG Name:  ['Trust', 'Nasdaq-100']\n",
      "=======================\n",
      "Enerfax GOLD NORTH AMERICA'S FREE?\n",
      "Position:  [[0, 7, 'ORG', 'machine']]   ORG Name:  ['Enerfax']\n",
      "=======================\n"
     ]
    }
   ],
   "source": [
    "# Here, just take 10 emails as example to analyze\n",
    "\n",
    "for n in range(10):\n",
    "    index = df_error['ID'].values[n]\n",
    "    text, output, len_output = read_each_email(index)\n",
    "    name = []\n",
    "    for value in output:\n",
    "        name.append(text[value[0]:value[1]])\n",
    "    print(text)\n",
    "    print(\"Position: \", output, \"  ORG Name: \", name)\n",
    "    print(\"=======================\")"
   ]
  },
  {
   "cell_type": "markdown",
   "metadata": {},
   "source": [
    "#### Take the first email to analysis"
   ]
  },
  {
   "cell_type": "code",
   "execution_count": 18,
   "metadata": {},
   "outputs": [
    {
     "name": "stdout",
     "output_type": "stream",
     "text": [
      "The result of original email:  []\n",
      "The result of first changed email:  [[26, 29, 'ORG']]\n",
      "The result of first changed email:  [[26, 29, 'ORG']]\n"
     ]
    }
   ],
   "source": [
    "# For the first email, spacy failed to get ORG name CEC from the original email \n",
    "\n",
    "input_text_orig1 = \"Mary, Jason Orta from the CEC called me to inform us that one of the generator numbers we had used was wrong.\"\n",
    "output_spacy1 = get_predict_from_spacy(input_text_orig1)\n",
    "print(\"The result of original email: \", output_spacy1)\n",
    "\n",
    "# Then through several tries, found:\n",
    "# when change \"me\" to \"us\" or delete \"me\", then spacy can annotate ORG name correctly\n",
    "\n",
    "input_text_chg1 = \"Mary, Jason Orta from the CEC called us to inform us that one of the generator numbers we had used was wrong.\"\n",
    "output1 = get_predict_from_spacy(input_text_chg1)\n",
    "print(\"The result of first changed email: \", output1)\n",
    "\n",
    "input_text_chg2 = \"Mary, Jason Orta from the CEC called to inform us that one of the generator numbers we had used was wrong.\"\n",
    "output2 = get_predict_from_spacy(input_text_chg2)\n",
    "print(\"The result of first changed email: \", output2)"
   ]
  },
  {
   "cell_type": "code",
   "execution_count": 19,
   "metadata": {},
   "outputs": [
    {
     "name": "stdout",
     "output_type": "stream",
     "text": [
      "The result of original email:  []\n",
      "The result of first changed email:  [[23, 27, 'ORG']]\n"
     ]
    }
   ],
   "source": [
    "# Based on the above analysis, then spacy might related to singular and plural pattern\n",
    "# And then take the 4th emails from the printed list\n",
    "input_text_orig4 = \"I would like to set up a GISB agreement to trade with Sempra.\"\n",
    "output_spacy4 = get_predict_from_spacy(input_text_orig4)\n",
    "print(\"The result of original email: \", output_spacy4)\n",
    "\n",
    "# If spacy might related to singular and plural pattern, then \"a\" in the content might effect result.\n",
    "# Do the change: remove \"a\"\n",
    "input_text_chg = \"I would like to set up GISB agreement to trade with Sempra.\"\n",
    "output1 = get_predict_from_spacy(input_text_chg)\n",
    "print(\"The result of first changed email: \", output1)"
   ]
  },
  {
   "cell_type": "markdown",
   "metadata": {},
   "source": [
    "####  check the second email"
   ]
  },
  {
   "cell_type": "code",
   "execution_count": 20,
   "metadata": {},
   "outputs": [
    {
     "name": "stdout",
     "output_type": "stream",
     "text": [
      "The result of original email:  [[17, 49, 'ORG'], [102, 110, 'ORG']]\n",
      "The result of first changed email:  [[17, 49, 'ORG'], [102, 110, 'ORG'], [152, 185, 'ORG']]\n"
     ]
    }
   ],
   "source": [
    "input_text_orig2 = \"Steve Harris and the Transwestern Commercial Team would like to extend an invitation to our Christmas Luncheon on Wednesday, December 13, 11:30 a.m. at the Rodizio Restaurant on Westheimer and Chimney Rock.\"\n",
    "output_spacy2 = get_predict_from_spacy(input_text_orig2)\n",
    "print(\"The result of original email: \", output_spacy2)\n",
    "\n",
    "# Do the change: remove \"on\", then find \"Westheimer\"\n",
    "input_text_chg = \"Steve Harris and the Transwestern Commercial Team would like to extend an invitation to our Christmas Luncheon on Wednesday, December 13, 11:30 a.m. at the Rodizio Restaurant Westheimer and Chimney Rock.\"\n",
    "output1 = get_predict_from_spacy(input_text_chg)\n",
    "print(\"The result of first changed email: \", output1)\n",
    "\n",
    "# However, here, \"Westheimer\" is location name not ORG. This is an error in Enron. "
   ]
  },
  {
   "cell_type": "markdown",
   "metadata": {},
   "source": [
    "#### Check the 7th email\n",
    "\n",
    "Enron file take people name as ORG name is a mistake. Another error is missed \"Frontera\" as ORG name.\n",
    "Spacy is good to annotate \"Frontera\" as ORG and avoid people name \"Ken\". However, when change \"Ken\" to all uppercase word \"KEN\", spacy annotate it as ORG name."
   ]
  },
  {
   "cell_type": "code",
   "execution_count": 21,
   "metadata": {},
   "outputs": [
    {
     "name": "stdout",
     "output_type": "stream",
     "text": [
      "The result of original email:  [[47, 55, 'ORG']]\n",
      "The result of first changed email:  [[40, 43, 'ORG'], [47, 55, 'ORG']]\n"
     ]
    }
   ],
   "source": [
    "# People name \"Ken\" in the 7th email\n",
    "input_text_orig7 = \"Steve indicated below that he talked to Ken at Frontera.\"\n",
    "output_spacy7 = get_predict_from_spacy(input_text_orig7)\n",
    "print(\"The result of original email: \", output_spacy7)\n",
    "\n",
    "# When change \"Ken\" to uppercase \"KEN\"\n",
    "input_text_chg = \"Steve indicated below that he talked to KEN at Frontera.\"\n",
    "output = get_predict_from_spacy(input_text_chg)\n",
    "print(\"The result of first changed email: \", output)"
   ]
  },
  {
   "cell_type": "markdown",
   "metadata": {},
   "source": [
    "#### Check the 9th email\n",
    "\n",
    "Because the 8th email has error and missed the ORG name NASDAQ-100, and the 9th email has the same name, then just check the 9th email. "
   ]
  },
  {
   "cell_type": "code",
   "execution_count": 22,
   "metadata": {},
   "outputs": [
    {
     "name": "stdout",
     "output_type": "stream",
     "text": [
      "The result of original email:  [[17, 22, 'ORG']]\n",
      "The result of first changed email:  [[17, 22, 'ORG'], [136, 142, 'ORG']]\n"
     ]
    }
   ],
   "source": [
    "input_text_orig9 = \"At maturity, the Trust is scheduled to repay the entire principal amount of the certificates, plus an amount based on the return of the Nasdaq-100 Index subject to a quarterly appreciation cap of 12%.\"\n",
    "output_spacy9 = get_predict_from_spacy(input_text_orig9)\n",
    "print(\"The result of original email: \", output_spacy9)\n",
    "\n",
    "# When change \"Nasdaq-100\" to \"Nasdaq\", it can be annotated by spacy\n",
    "input_text_chg = \"At maturity, the Trust is scheduled to repay the entire principal amount of the certificates, plus an amount based on the return of the Nasdaq Index subject to a quarterly appreciation cap of 12%.\"\n",
    "output = get_predict_from_spacy(input_text_chg)\n",
    "print(\"The result of first changed email: \", output)\n",
    "\n",
    "# The punctuation and digital number might effect the judgement of spacy"
   ]
  },
  {
   "cell_type": "markdown",
   "metadata": {},
   "source": [
    "#### Check the 10th email"
   ]
  },
  {
   "cell_type": "code",
   "execution_count": 23,
   "metadata": {},
   "outputs": [
    {
     "name": "stdout",
     "output_type": "stream",
     "text": [
      "The result of original email:  [[17, 22, 'ORG']]\n",
      "The result of first changed email:  [[0, 24, 'ORG']]\n"
     ]
    }
   ],
   "source": [
    "input_text_orig10 = \"Enerfax GOLD NORTH AMERICA'S FREE?\"\n",
    "output_spacy10 = get_predict_from_spacy(input_text_orig9)\n",
    "print(\"The result of original email: \", output_spacy9)\n",
    "\n",
    "# \"Enerfax\" might not in spacy ORG dictionary. \n",
    "# When it changed to a name with higher frequency found, \"ENA\", spacy can annotate it.\n",
    "input_text_chg = \"ENA GOLD NORTH AMERICA'S FREE?\"\n",
    "output = get_predict_from_spacy(input_text_chg)\n",
    "print(\"The result of first changed email: \", output)"
   ]
  },
  {
   "cell_type": "markdown",
   "metadata": {},
   "source": [
    "<a id='step3'></a>\n",
    "## Step 3: Load OntoNotes Dataset\n",
    "\n",
    "### Load OntoNotes.json file"
   ]
  },
  {
   "cell_type": "code",
   "execution_count": 24,
   "metadata": {},
   "outputs": [
    {
     "name": "stdout",
     "output_type": "stream",
     "text": [
      "<class 'list'>\n",
      "5000\n"
     ]
    }
   ],
   "source": [
    "# Open JSON file\n",
    "with open('OntoNotes.json') as json_file:\n",
    "    Onto_data = json.load(json_file)\n",
    "    \n",
    "    print(type(Onto_data))\n",
    "    print(len(Onto_data))"
   ]
  },
  {
   "cell_type": "code",
   "execution_count": 25,
   "metadata": {},
   "outputs": [
    {
     "name": "stdout",
     "output_type": "stream",
     "text": [
      "['The head of the Palestinian Television and Radio has been shot dead in the Gaza Strip .', {'entities': [[12, 48, 'ORG'], [71, 85, 'GPE']]}]\n",
      "Onto_data[0] type: <class 'list'>\n",
      "The head of the Palestinian Television and Radio has been shot dead in the Gaza Strip .\n",
      "[[12, 48, 'ORG'], [71, 85, 'GPE']]\n"
     ]
    },
    {
     "data": {
      "text/plain": [
       "[[12, 48, 'ORG']]"
      ]
     },
     "execution_count": 25,
     "metadata": {},
     "output_type": "execute_result"
    }
   ],
   "source": [
    "print(Onto_data[0])\n",
    "print(\"Onto_data[0] type:\",type(Onto_data[0]))\n",
    "print(Onto_data[0][0])\n",
    "output_Onto = Onto_data[0][1]['entities']\n",
    "print(output_Onto)\n",
    "\n",
    "output_test = []\n",
    "for value in output_Onto:\n",
    "    if value[2] == 'ORG':\n",
    "        output_test.append(value)\n",
    "output_test"
   ]
  },
  {
   "cell_type": "code",
   "execution_count": 26,
   "metadata": {},
   "outputs": [
    {
     "name": "stdout",
     "output_type": "stream",
     "text": [
      "The head of the Palestinian Television and Radio has been shot dead in the Gaza Strip .\n",
      "[[12, 38, 'ORG'], [43, 48, 'ORG']]\n"
     ]
    }
   ],
   "source": [
    "input_text = str(Onto_data[0][0])\n",
    "print(input_text)\n",
    "output_spacy = get_predict_from_spacy(input_text)\n",
    "print(output_spacy)"
   ]
  },
  {
   "cell_type": "markdown",
   "metadata": {},
   "source": [
    "<a id='step4'></a>\n",
    "## Step 4: Analyze spacy model performace on OntoSentences file"
   ]
  },
  {
   "cell_type": "code",
   "execution_count": 27,
   "metadata": {},
   "outputs": [],
   "source": [
    "def read_output_from_OntoNotes(n):\n",
    "    info = Onto_data[n]\n",
    "    input_text = str(Onto_data[n][0])\n",
    "    output = Onto_data[n][1]['entities']\n",
    "    output_Onto = []\n",
    "    for value in output:\n",
    "        if value[2] == 'ORG':\n",
    "            output_Onto.append(value)\n",
    "    \n",
    "    return input_text, output_Onto"
   ]
  },
  {
   "cell_type": "code",
   "execution_count": 28,
   "metadata": {},
   "outputs": [
    {
     "name": "stdout",
     "output_type": "stream",
     "text": [
      "complete_correct_number Positive:  1397\n",
      "All position found:  190\n",
      "True Positive:  1587\n",
      "True Negative:  3341\n",
      "with false positive number:  11\n",
      "with false negative number:  61\n"
     ]
    }
   ],
   "source": [
    "complete_correct_number = 0\n",
    "position_find_number = 0\n",
    "false_positive_number = 0\n",
    "false_negative_number = 0\n",
    "ture_negative_number = 0\n",
    "\n",
    "for n in range(len(Onto_data)):\n",
    "    input_text, output_Onto = read_output_from_OntoNotes(n)\n",
    "    len_output = len(output_Onto)\n",
    "    output_spacy = get_predict_from_spacy(input_text)\n",
    "    len_spacy = len(output_spacy)\n",
    "    \n",
    "    if complete_match(output_Onto, output_spacy) == 1:\n",
    "\n",
    "        if output_spacy == []:\n",
    "            ture_negative_number += 1\n",
    "        else:\n",
    "            complete_correct_number += 1\n",
    "        #print(i, \" Completely Match OntoSentences: \", output_Onto, \" spacy: \", output_spacy)\n",
    "    elif correct_find(output_Onto, output_spacy) == len(output_Onto):\n",
    "        position_find_number += 1     \n",
    "    \n",
    "    else:\n",
    "        if len_spacy >= len_output:  # spacy has false positive\n",
    "            false_positive_number += 1\n",
    "        \n",
    "        elif len_spacy < len_output:  # spacy has false negative\n",
    "            false_negative_number += 1\n",
    "            #print(input_text)\n",
    "            #print(n, \" OntoSentences: \", output_Onto, \" spacy: \", output_spacy)\n",
    "                \n",
    "print(\"complete_correct_number Positive: \", complete_correct_number)\n",
    "print(\"All position found: \", position_find_number)\n",
    "print(\"True Positive: \", complete_correct_number + position_find_number)\n",
    "print(\"True Negative: \", ture_negative_number)\n",
    "print(\"with false positive number: \", false_positive_number)\n",
    "print(\"with false negative number: \", false_negative_number)\n"
   ]
  },
  {
   "cell_type": "markdown",
   "metadata": {},
   "source": [
    "Based on the result from above step, it is easy to find:\n",
    "\n",
    "there are 1397 emails correctly annotate ORG by spacy\n",
    "there are 190 emaild can include then names needed to be annotated by spacy\n",
    "there are 3341 emails don't have ORG name checked by spacy, the same as Enton file\n",
    "there are 11 emails annotated with wrong ORG name by spacy\n",
    "there are 61 emails which can not be annotated ORG name by spacy\n",
    "hence,\n",
    "  True Positive = 1397 + 190 = 1587\n",
    "  True Negative = 3341\n",
    "  False Positive = 11\n",
    "  False Negative = 61\n",
    "When only consider correct results, then:\n",
    "\n",
    "Accuracy = (True Positive + True Negative)/ Total = (1587 + 3341) / 5000 = 0.99\n",
    "Recall = True Positive/(True Positive + False Negative) = 1587/(1587+61) = 0.96\n"
   ]
  }
 ],
 "metadata": {
  "anaconda-cloud": {},
  "kernelspec": {
   "display_name": "Python 3",
   "language": "python",
   "name": "python3"
  },
  "language_info": {
   "codemirror_mode": {
    "name": "ipython",
    "version": 3
   },
   "file_extension": ".py",
   "mimetype": "text/x-python",
   "name": "python",
   "nbconvert_exporter": "python",
   "pygments_lexer": "ipython3",
   "version": "3.7.4"
  }
 },
 "nbformat": 4,
 "nbformat_minor": 1
}
